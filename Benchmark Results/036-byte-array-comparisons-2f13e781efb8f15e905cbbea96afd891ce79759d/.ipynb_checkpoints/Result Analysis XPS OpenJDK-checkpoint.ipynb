{
 "cells": [
  {
   "cell_type": "markdown",
   "id": "b658d03a",
   "metadata": {},
   "source": [
    "# AethraDB All Query Result Analysis Overview\n",
    "This file contains the result analysis for the filter query aggregation and join queries at the current stage of development in the AethraDB engine. Additionally, it contains a comparison against a single-threaded run of the same queries on the same data on DuckDB version 0.8.1 using PyArrow 13.0.0."
   ]
  },
  {
   "cell_type": "code",
   "execution_count": 1,
   "id": "3cdcb087",
   "metadata": {},
   "outputs": [],
   "source": [
    "import pandas as pd\n",
    "import numpy as np\n",
    "import matplotlib.pyplot as plt\n",
    "import seaborn as sns\n",
    "\n",
    "plt.style.use('tableau-colorblind10')\n",
    "plt_patterns = ('-', 'x','/','\\\\','O','o','//','\\\\\\\\')"
   ]
  },
  {
   "cell_type": "code",
   "execution_count": null,
   "id": "633dcfda",
   "metadata": {},
   "outputs": [],
   "source": [
    "# Load the data from AethraDB\n",
    "aethra_results = pd.read_csv(\"./main_method_benchmark_result_2023-10-24_21:02:11-XPS-OpenJDK.csv\")\n",
    "\n",
    "aethra_results.head()"
   ]
  },
  {
   "cell_type": "markdown",
   "id": "af03e990",
   "metadata": {},
   "source": [
    "# Analysis of the Filter Query at different Scale Factors"
   ]
  },
  {
   "cell_type": "code",
   "execution_count": null,
   "id": "06fb27be",
   "metadata": {},
   "outputs": [],
   "source": [
    "# Get the data of the filter query\n",
    "filter_query = aethra_results[aethra_results['Benchmark'] == 'filter_query'].copy(deep=True)\n",
    "\n",
    "# Extract the restrictive column\n",
    "filter_query[\"Restrictive-Column\"] = filter_query.apply(lambda x: 1 if 'rest_1' in x['Dataset'] else (2 if 'rest_2' in x['Dataset'] else 3), axis=1)\n",
    "\n",
    "filter_query.head()"
   ]
  },
  {
   "cell_type": "code",
   "execution_count": null,
   "id": "22c6374e",
   "metadata": {},
   "outputs": [],
   "source": [
    "# Load duckdb reference data\n",
    "filter_query_duck = pd.read_csv(\"duckdb_filter_query_result_XPS.csv\")\n",
    "filter_query_duck.head()"
   ]
  },
  {
   "cell_type": "code",
   "execution_count": null,
   "id": "662e0edc",
   "metadata": {},
   "outputs": [],
   "source": [
    "index_column = \"Restrictive-Column\"\n",
    "scale_factors = [1, 10, 20]\n",
    "\n",
    "fig, ax = plt.subplots(nrows=1, ncols=len(scale_factors), figsize=(15,8))\n",
    "\n",
    "for i, sf in enumerate(scale_factors):\n",
    "    duckdb_data = filter_query_duck[filter_query_duck[\"Scale-Factor\"] == sf].sort_values(index_column)\n",
    "    index = duckdb_data[index_column]\n",
    "\n",
    "    aethra_data = filter_query[filter_query[\"Scale-Factor\"] == sf].sort_values(index_column)\n",
    "    aethra_nv_ns_data = aethra_data[aethra_data[\"Paradigm\"] == \"non-vectorised\"]\n",
    "    aethra_v_ns_data = aethra_data[aethra_data[\"Paradigm\"] == \"vectorised\"]\n",
    "\n",
    "    df = pd.DataFrame({\n",
    "        'DuckDB': duckdb_data[\"Running-Time\"].tolist(),\n",
    "        'NV-NS': aethra_nv_ns_data[\"Total-Time\"].tolist(),\n",
    "        'V-NS': aethra_v_ns_data[\"Total-Time\"].tolist(),\n",
    "    }, index = index)\n",
    "\n",
    "    df.plot.bar(rot=0, ax=ax[i])\n",
    "    ax[i].set_ylabel(\"Execution Time (ms)\")\n",
    "    ax[i].set_title(\"SF \" + str(sf))\n",
    "\n",
    "    bars = ax[i].patches\n",
    "    hatches = [p for p in plt_patterns for j in range(len(df))]\n",
    "    for bar, hatch in zip(bars, hatches):\n",
    "        bar.set_hatch(hatch)\n",
    "\n",
    "    ax[i].legend(loc=3, bbox_to_anchor=(0., 1.06, 1., .102))"
   ]
  },
  {
   "cell_type": "markdown",
   "id": "160e36e1",
   "metadata": {},
   "source": [
    "# Analysis of the Aggregation Query at different Scale Factors"
   ]
  },
  {
   "cell_type": "code",
   "execution_count": null,
   "id": "ddc1f2f6",
   "metadata": {},
   "outputs": [],
   "source": [
    "# Get the data of the aggregation query\n",
    "aggregation_query = aethra_results[aethra_results['Benchmark'] == 'aggregation_query'].copy(deep=True)\n",
    "\n",
    "# Extract the number of keys in the result\n",
    "aggregation_query[\"Keys\"] = aggregation_query.apply(lambda x: x['Dataset'].split('keys_')[1], axis=1)\n",
    "aggregation_query[\"Keys\"] = aggregation_query[\"Keys\"].str.extract('(\\d+)').astype(int)\n",
    "\n",
    "aggregation_query.head()"
   ]
  },
  {
   "cell_type": "code",
   "execution_count": null,
   "id": "998d9620",
   "metadata": {},
   "outputs": [],
   "source": [
    "# Load duckdb reference data\n",
    "aggregation_query_duck = pd.read_csv(\"duckdb_aggregation_query_result_XPS.csv\")\n",
    "aggregation_query_duck.head()"
   ]
  },
  {
   "cell_type": "code",
   "execution_count": null,
   "id": "6a8720f3",
   "metadata": {},
   "outputs": [],
   "source": [
    "index_column = \"Keys\"\n",
    "scale_factors = [1, 10, 20]\n",
    "\n",
    "fig, ax = plt.subplots(nrows=1, ncols=len(scale_factors), figsize=(15,8))\n",
    "\n",
    "for i, sf in enumerate(scale_factors):\n",
    "    duckdb_data = aggregation_query_duck[aggregation_query_duck[\"Scale-Factor\"] == sf].sort_values(index_column)\n",
    "    index = duckdb_data[index_column]\n",
    "\n",
    "    aethra_data = aggregation_query[aggregation_query[\"Scale-Factor\"] == sf].sort_values(index_column)\n",
    "    aethra_nv_ns_data = aethra_data[aethra_data[\"Paradigm\"] == \"non-vectorised\"]\n",
    "    aethra_v_ns_data = aethra_data[aethra_data[\"Paradigm\"] == \"vectorised\"]\n",
    "\n",
    "    df = pd.DataFrame({\n",
    "        'DuckDB': duckdb_data[\"Running-Time\"].tolist(),\n",
    "        'NV-NS': aethra_nv_ns_data[\"Total-Time\"].tolist(),\n",
    "        'V-NS': aethra_v_ns_data[\"Total-Time\"].tolist(),\n",
    "    }, index = index)\n",
    "\n",
    "    df.plot.bar(rot=0, ax=ax[i])\n",
    "    ax[i].set_ylabel(\"Execution Time (ms)\")\n",
    "    ax[i].set_title(\"SF \" + str(sf))\n",
    "\n",
    "    bars = ax[i].patches\n",
    "    hatches = [p for p in plt_patterns for j in range(len(df))]\n",
    "    for bar, hatch in zip(bars, hatches):\n",
    "        bar.set_hatch(hatch)\n",
    "\n",
    "    ax[i].legend(loc=3, bbox_to_anchor=(0., 1.06, 1., .102))"
   ]
  },
  {
   "cell_type": "markdown",
   "id": "e89ab6bd",
   "metadata": {},
   "source": [
    "# Analysis of the Join Query at different Scale Factors\n",
    "For this experiment, we only ran the query at selectivity instance A-B 0.6, A-C 0.8"
   ]
  },
  {
   "cell_type": "code",
   "execution_count": null,
   "id": "c170adad",
   "metadata": {},
   "outputs": [],
   "source": [
    "# Get the data of the join query\n",
    "join_query = aethra_results[aethra_results['Benchmark'] == 'join_query'].copy(deep=True)\n",
    "\n",
    "# No need to get the selectivity of each join, since the experiment was only run at A-B 0.6, A-C 0.8\n",
    "\n",
    "join_query.head()"
   ]
  },
  {
   "cell_type": "code",
   "execution_count": null,
   "id": "7252b2ed",
   "metadata": {},
   "outputs": [],
   "source": [
    "# Load duckdb reference data\n",
    "join_query_duck = pd.read_csv(\"duckdb_join_query_result_XPS.csv\")\n",
    "join_query_duck.head()"
   ]
  },
  {
   "cell_type": "code",
   "execution_count": null,
   "id": "0ed89fc8",
   "metadata": {},
   "outputs": [],
   "source": [
    "scale_factors = [1, 10]\n",
    "\n",
    "fig, ax = plt.subplots(nrows=1, ncols=len(scale_factors), figsize=(15,8))\n",
    "\n",
    "for i, sf in enumerate(scale_factors):\n",
    "    duckdb_data = join_query_duck[join_query_duck[\"Scale-Factor\"] == sf]\n",
    "\n",
    "    aethra_data = join_query[join_query[\"Scale-Factor\"] == sf]\n",
    "    aethra_nv_ns_data = aethra_data[aethra_data[\"Paradigm\"] == \"non-vectorised\"]\n",
    "    aethra_v_ns_data = aethra_data[aethra_data[\"Paradigm\"] == \"vectorised\"]\n",
    "\n",
    "    df = pd.DataFrame({\n",
    "        'DuckDB': duckdb_data[\"Running-Time\"].tolist(),\n",
    "        'NV-NS': aethra_nv_ns_data[\"Total-Time\"].tolist(),\n",
    "        'V-NS': aethra_v_ns_data[\"Total-Time\"].tolist()\n",
    "    })\n",
    "\n",
    "    df.plot.bar(rot=0, ax=ax[i])\n",
    "    ax[i].set_ylabel(\"Execution Time (ms)\")\n",
    "    ax[i].set_title(\"SF \" + str(sf))\n",
    "\n",
    "    bars = ax[i].patches\n",
    "    hatches = [p for p in plt_patterns for j in range(len(df))]\n",
    "    for bar, hatch in zip(bars, hatches):\n",
    "        bar.set_hatch(hatch)\n",
    "\n",
    "    ax[i].legend(loc=3, bbox_to_anchor=(0., 1.06, 1., .102))"
   ]
  },
  {
   "cell_type": "markdown",
   "id": "e66efc02",
   "metadata": {},
   "source": [
    "# Analysis of TPC-H Q1 at different Scale Factors"
   ]
  },
  {
   "cell_type": "code",
   "execution_count": null,
   "id": "37b24c19",
   "metadata": {},
   "outputs": [],
   "source": [
    "def plot_tpch_data(query_number):\n",
    "    # Get the data of the query\n",
    "    tpch_data = aethra_results[aethra_results['Benchmark'].str.contains('tpch')].copy(deep=True)    \n",
    "    tpch_query_data = tpch_data[tpch_data['Benchmark'] == \"tpch_q\" + str(query_number)].copy(deep=True)\n",
    "    \n",
    "    # Load duckdb reference data\n",
    "    tpch_query_duck = pd.read_csv(\"duckdb_tpch_q\" + str(query_number) + \"_query_result_XPS.csv\")\n",
    "    \n",
    "    # Obtain the different scale factors\n",
    "    sf_vals = tpch_query_data[\"Scale-Factor\"].unique()\n",
    "    sf_vals.sort()\n",
    "    scale_factors = list(sf_vals)\n",
    "\n",
    "    # Plot the data\n",
    "    fig, ax = plt.subplots(nrows=1, ncols=len(scale_factors), figsize=(15,8))\n",
    "\n",
    "    for i, sf in enumerate(scale_factors):\n",
    "        duckdb_data = tpch_query_duck[tpch_query_duck[\"Scale-Factor\"] == sf]\n",
    "\n",
    "        aethra_data = tpch_query_data[tpch_query_data[\"Scale-Factor\"] == sf]\n",
    "        aethra_nv_ns_data = aethra_data[aethra_data[\"Paradigm\"] == \"non-vectorised\"]\n",
    "        aethra_v_ns_data = aethra_data[aethra_data[\"Paradigm\"] == \"vectorised\"]\n",
    "\n",
    "        df = pd.DataFrame({\n",
    "            'DuckDB': duckdb_data[\"Running-Time\"].tolist(),\n",
    "            'NV-NS': aethra_nv_ns_data[\"Total-Time\"].tolist(),\n",
    "            'V-NS': aethra_v_ns_data[\"Total-Time\"].tolist(),\n",
    "        })\n",
    "\n",
    "        df.plot.bar(rot=0, ax=ax[i])\n",
    "        ax[i].set_ylabel(\"Execution Time (ms)\")\n",
    "        ax[i].set_title(\"TPC_H Q\" + str(query_number) + \" SF \" + str(sf))\n",
    "\n",
    "        bars = ax[i].patches\n",
    "        hatches = [p for p in plt_patterns for j in range(len(df))]\n",
    "        for bar, hatch in zip(bars, hatches):\n",
    "            bar.set_hatch(hatch)\n",
    "\n",
    "        ax[i].legend(loc=3, bbox_to_anchor=(0., 1.06, 1., .102))\n",
    "    \n",
    "\n",
    "plot_tpch_data(1)"
   ]
  },
  {
   "cell_type": "markdown",
   "id": "388dcb9f",
   "metadata": {},
   "source": [
    "# Analysis of TPC-H Q3 at different Scale Factors"
   ]
  },
  {
   "cell_type": "code",
   "execution_count": null,
   "id": "e0d6e05e",
   "metadata": {},
   "outputs": [],
   "source": [
    "plot_tpch_data(3)"
   ]
  },
  {
   "cell_type": "markdown",
   "id": "38c82ef2",
   "metadata": {},
   "source": [
    "# Analysis of TPC-H Q6 at different Scale Factors"
   ]
  },
  {
   "cell_type": "code",
   "execution_count": null,
   "id": "a673830c",
   "metadata": {},
   "outputs": [],
   "source": [
    "plot_tpch_data(6)"
   ]
  },
  {
   "cell_type": "markdown",
   "id": "fa803b87",
   "metadata": {},
   "source": [
    "# Analysis of TPC-H Q10 at different Scale Factors"
   ]
  },
  {
   "cell_type": "code",
   "execution_count": null,
   "id": "537e3a5f",
   "metadata": {},
   "outputs": [],
   "source": [
    "plot_tpch_data(10)"
   ]
  }
 ],
 "metadata": {
  "kernelspec": {
   "display_name": "Python 3 (ipykernel)",
   "language": "python",
   "name": "python3"
  },
  "language_info": {
   "codemirror_mode": {
    "name": "ipython",
    "version": 3
   },
   "file_extension": ".py",
   "mimetype": "text/x-python",
   "name": "python",
   "nbconvert_exporter": "python",
   "pygments_lexer": "ipython3",
   "version": "3.11.5"
  }
 },
 "nbformat": 4,
 "nbformat_minor": 5
}
