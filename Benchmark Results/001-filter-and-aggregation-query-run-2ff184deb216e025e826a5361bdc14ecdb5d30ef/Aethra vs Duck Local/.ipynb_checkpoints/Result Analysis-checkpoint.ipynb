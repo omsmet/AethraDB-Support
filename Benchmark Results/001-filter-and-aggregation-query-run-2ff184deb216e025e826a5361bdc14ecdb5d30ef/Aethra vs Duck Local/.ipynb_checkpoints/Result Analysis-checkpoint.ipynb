{
 "cells": [
  {
   "cell_type": "markdown",
   "id": "b658d03a",
   "metadata": {},
   "source": [
    "# AethraDB Filter Query and Aggregation Query Result Analysis\n",
    "This file contains the result analysis for the first full run of the filter query and aggregation query in the AethraDB engine. Additionally, it contains a comparison against a single-threaded run of the same queries on the same data on DuckDB version 0.8.0 using PyArrow 12.0.0."
   ]
  },
  {
   "cell_type": "code",
   "execution_count": 1,
   "id": "3cdcb087",
   "metadata": {},
   "outputs": [],
   "source": [
    "import pandas as pd\n",
    "import numpy as np\n",
    "import matplotlib.pyplot as plt\n",
    "import seaborn as sns"
   ]
  },
  {
   "cell_type": "markdown",
   "id": "e8c4702e",
   "metadata": {},
   "source": [
    "## Importing the Data\n",
    "We first load the filter query benchmark data from DuckDB."
   ]
  },
  {
   "cell_type": "code",
   "execution_count": 2,
   "id": "5dce28d4",
   "metadata": {},
   "outputs": [
    {
     "data": {
      "text/html": [
       "<div>\n",
       "<style scoped>\n",
       "    .dataframe tbody tr th:only-of-type {\n",
       "        vertical-align: middle;\n",
       "    }\n",
       "\n",
       "    .dataframe tbody tr th {\n",
       "        vertical-align: top;\n",
       "    }\n",
       "\n",
       "    .dataframe thead th {\n",
       "        text-align: right;\n",
       "    }\n",
       "</style>\n",
       "<table border=\"1\" class=\"dataframe\">\n",
       "  <thead>\n",
       "    <tr style=\"text-align: right;\">\n",
       "      <th></th>\n",
       "      <th>Running-Time</th>\n",
       "      <th>Restrictive-Column</th>\n",
       "      <th>Engine</th>\n",
       "    </tr>\n",
       "  </thead>\n",
       "  <tbody>\n",
       "    <tr>\n",
       "      <th>0</th>\n",
       "      <td>71.5</td>\n",
       "      <td>1</td>\n",
       "      <td>DuckDB</td>\n",
       "    </tr>\n",
       "    <tr>\n",
       "      <th>1</th>\n",
       "      <td>77.7</td>\n",
       "      <td>3</td>\n",
       "      <td>DuckDB</td>\n",
       "    </tr>\n",
       "    <tr>\n",
       "      <th>2</th>\n",
       "      <td>76.2</td>\n",
       "      <td>2</td>\n",
       "      <td>DuckDB</td>\n",
       "    </tr>\n",
       "  </tbody>\n",
       "</table>\n",
       "</div>"
      ],
      "text/plain": [
       "   Running-Time  Restrictive-Column  Engine\n",
       "0          71.5                   1  DuckDB\n",
       "1          77.7                   3  DuckDB\n",
       "2          76.2                   2  DuckDB"
      ]
     },
     "execution_count": 2,
     "metadata": {},
     "output_type": "execute_result"
    }
   ],
   "source": [
    "# Loading the filter query data from DuckDB\n",
    "duckdb_filter_query_raw = pd.read_csv(\"./filter_query_duckdb.csv\")\n",
    "\n",
    "# Convert the running-time to milli-seconds\n",
    "duckdb_filter_query = duckdb_filter_query_raw.copy(deep=True)\n",
    "duckdb_filter_query[\"Running-Time\"] = duckdb_filter_query[\"Running-Time\"] * 1000\n",
    "duckdb_filter_query[\"Running-Time\"] = duckdb_filter_query[\"Running-Time\"].round(1)\n",
    "\n",
    "# Extract the restrictive column\n",
    "duckdb_filter_query[\"Restrictive-Column\"] = duckdb_filter_query.apply(lambda x: 1 if 'col1_002' in x['Dataset'] else (2 if 'col2_002' in x['Dataset'] else 3), axis=1)\n",
    "\n",
    "# Drop the dataset column\n",
    "duckdb_filter_query.drop(columns=['Dataset'], inplace=True)\n",
    "\n",
    "# Introduce the \"Engine\" column\n",
    "duckdb_filter_query[\"Engine\"] = \"DuckDB\"\n",
    "\n",
    "duckdb_filter_query.head()"
   ]
  },
  {
   "cell_type": "markdown",
   "id": "df7fbfac",
   "metadata": {},
   "source": [
    "Next, we load the aggregation query benchmark data from DuckDB."
   ]
  },
  {
   "cell_type": "code",
   "execution_count": 3,
   "id": "ed284e5f",
   "metadata": {},
   "outputs": [
    {
     "data": {
      "text/html": [
       "<div>\n",
       "<style scoped>\n",
       "    .dataframe tbody tr th:only-of-type {\n",
       "        vertical-align: middle;\n",
       "    }\n",
       "\n",
       "    .dataframe tbody tr th {\n",
       "        vertical-align: top;\n",
       "    }\n",
       "\n",
       "    .dataframe thead th {\n",
       "        text-align: right;\n",
       "    }\n",
       "</style>\n",
       "<table border=\"1\" class=\"dataframe\">\n",
       "  <thead>\n",
       "    <tr style=\"text-align: right;\">\n",
       "      <th></th>\n",
       "      <th>Running-Time</th>\n",
       "      <th>Records</th>\n",
       "      <th>Keys</th>\n",
       "      <th>Engine</th>\n",
       "    </tr>\n",
       "  </thead>\n",
       "  <tbody>\n",
       "    <tr>\n",
       "      <th>0</th>\n",
       "      <td>450.0</td>\n",
       "      <td>31457280</td>\n",
       "      <td>64</td>\n",
       "      <td>DuckDB</td>\n",
       "    </tr>\n",
       "    <tr>\n",
       "      <th>1</th>\n",
       "      <td>1560.1</td>\n",
       "      <td>31457280</td>\n",
       "      <td>262144</td>\n",
       "      <td>DuckDB</td>\n",
       "    </tr>\n",
       "    <tr>\n",
       "      <th>2</th>\n",
       "      <td>434.8</td>\n",
       "      <td>31457280</td>\n",
       "      <td>16</td>\n",
       "      <td>DuckDB</td>\n",
       "    </tr>\n",
       "    <tr>\n",
       "      <th>3</th>\n",
       "      <td>461.8</td>\n",
       "      <td>31457280</td>\n",
       "      <td>256</td>\n",
       "      <td>DuckDB</td>\n",
       "    </tr>\n",
       "    <tr>\n",
       "      <th>4</th>\n",
       "      <td>984.1</td>\n",
       "      <td>31457280</td>\n",
       "      <td>65536</td>\n",
       "      <td>DuckDB</td>\n",
       "    </tr>\n",
       "  </tbody>\n",
       "</table>\n",
       "</div>"
      ],
      "text/plain": [
       "   Running-Time   Records    Keys  Engine\n",
       "0         450.0  31457280      64  DuckDB\n",
       "1        1560.1  31457280  262144  DuckDB\n",
       "2         434.8  31457280      16  DuckDB\n",
       "3         461.8  31457280     256  DuckDB\n",
       "4         984.1  31457280   65536  DuckDB"
      ]
     },
     "execution_count": 3,
     "metadata": {},
     "output_type": "execute_result"
    }
   ],
   "source": [
    "# Loading the aggregation query data from DuckDB\n",
    "duckdb_aggregation_query_raw = pd.read_csv(\"./aggregation_query_duckdb.csv\")\n",
    "\n",
    "# Convert the running-time to milli-seconds\n",
    "duckdb_aggregation_query = duckdb_aggregation_query_raw.copy(deep=True)\n",
    "duckdb_aggregation_query[\"Running-Time\"] = duckdb_aggregation_query_raw[\"Running-Time\"] * 1000\n",
    "duckdb_aggregation_query[\"Running-Time\"] = duckdb_aggregation_query[\"Running-Time\"].round(1)\n",
    "\n",
    "# Extract the number of elements in each dataset\n",
    "duckdb_aggregation_query[\"Records\"] = duckdb_aggregation_query.apply(lambda x: x['Dataset'].split('size_')[1], axis=1)\n",
    "duckdb_aggregation_query[\"Records\"] = duckdb_aggregation_query[\"Records\"].str.extract('(\\d+)').astype(int)\n",
    "\n",
    "# Extract the number of keys in each dataset\n",
    "duckdb_aggregation_query[\"Keys\"] = duckdb_aggregation_query.apply(lambda x: x['Dataset'].split('keys_')[1], axis=1)\n",
    "duckdb_aggregation_query[\"Keys\"] = duckdb_aggregation_query[\"Keys\"].str.extract('(\\d+)').astype(int)\n",
    "\n",
    "# Introduce the \"Engine\" column\n",
    "duckdb_aggregation_query[\"Engine\"] = \"DuckDB\"\n",
    "\n",
    "# Split the dataset into the skew part and without skew part\n",
    "#duckdb_aggregation_query_skew = duckdb_aggregation_query[duckdb_aggregation_query['Dataset'].str.contains(\"skew\")].copy(deep=True)\n",
    "duckdb_aggregation_query_no_skew = duckdb_aggregation_query[~duckdb_aggregation_query['Dataset'].str.contains(\"skew\")].copy(deep=True)\n",
    "\n",
    "# Extract the skew for the skew dataset\n",
    "#duckdb_aggregation_query_skew[\"Skew\"] = duckdb_aggregation_query_skew.apply(lambda x: float(x['Dataset'].split('skew_')[1].split('/')[0]), axis=1)\n",
    "\n",
    "# Drop the dataset column\n",
    "#duckdb_aggregation_query_skew.drop(columns=['Dataset'], inplace=True)\n",
    "duckdb_aggregation_query_no_skew.drop(columns=['Dataset'], inplace=True)\n",
    "\n",
    "duckdb_aggregation_query_no_skew.head()"
   ]
  },
  {
   "cell_type": "markdown",
   "id": "98d89301",
   "metadata": {},
   "source": [
    "Finally, we load the data from the AethraDB experiments themselves"
   ]
  },
  {
   "cell_type": "code",
   "execution_count": 4,
   "id": "bfafec02",
   "metadata": {},
   "outputs": [],
   "source": [
    "# Load there result from AethraDB\n",
    "aethra_result_raw = pd.read_csv(\"aethra-placeholder-result.csv\")\n",
    "\n",
    "# Take only the average rows and rename the \"Score\" column to \"Running-Time\"\n",
    "aethra_results = aethra_result_raw[~aethra_result_raw['Benchmark'].str.contains('executeFilterQuery:executeFilterQuery')].copy(deep=True)\n",
    "aethra_results = aethra_results[~aethra_results['Benchmark'].str.contains('executeQuery:executeQuery')].copy(deep=True)\n",
    "aethra_results[\"Running-Time\"] = aethra_results[\"Score\"].round(1)\n",
    "\n",
    "# Introduce the \"Engine\" column\n",
    "aethra_results[\"Engine\"] = aethra_results.apply(\n",
    "    lambda x: \"NV-NS\" if 'NonVectorisedNonSimd' in x['Benchmark']\n",
    "    else (\"NV-S\" if 'NonVectorisedSimd' in x['Benchmark']\n",
    "          else (\"V-NS\" if 'VectorisedNonSimd' in x['Benchmark']\n",
    "                else \"V-S\")), axis=1)\n",
    "\n",
    "# Split the result into a filter-query and an aggregation query dataset\n",
    "aethra_filter_query_result = aethra_results[aethra_results['Benchmark'].str.contains(\"filter_query\")].copy(deep=True)\n",
    "aethra_aggregation_query_result = aethra_results[aethra_results['Benchmark'].str.contains(\"aggregation_query\")].copy(deep=True)\n",
    "\n",
    "# For the filter-query dataset, extract the restrictive column\n",
    "aethra_filter_query_result[\"Restrictive-Column\"] = aethra_filter_query_result.apply(lambda x: 1 if 'col1_002' in x['Param: tableFilePath'] else (2 if 'col2_002' in x['Param: tableFilePath'] else 3), axis=1)\n",
    "\n",
    "# For the filter-query dataset drop all columns except the \"Running-Time\" and \"Restrictive-Column\"\n",
    "aethra_filter_query_result.drop(columns=[\"Benchmark\", \"Mode\", \"Threads\", \"Samples\", \"Score\", \"Score Error (99.9%)\", \"Unit\", \"Param: tableFilePath\"], inplace=True)\n",
    "\n",
    "# For the aggregation query, check if the benchmark verifies the result\n",
    "aethra_aggregation_query_result[\"Verifies\"] = ~aethra_aggregation_query_result[\"Benchmark\"].str.contains(\"_No_Verification\")\n",
    "\n",
    "# For the aggregation query, extract the number of elements in each dataset\n",
    "aethra_aggregation_query_result[\"Records\"] = aethra_aggregation_query_result.apply(lambda x: x['Param: tableFilePath'].split('size_')[1], axis=1)\n",
    "aethra_aggregation_query_result[\"Records\"] = aethra_aggregation_query_result[\"Records\"].str.extract('(\\d+)').astype(int)\n",
    "\n",
    "# For the aggregation query,  extract the number of keys in each dataset\n",
    "aethra_aggregation_query_result[\"Keys\"] = aethra_aggregation_query_result.apply(lambda x: x['Param: tableFilePath'].split('keys_')[1], axis=1)\n",
    "aethra_aggregation_query_result[\"Keys\"] = aethra_aggregation_query_result[\"Keys\"].str.extract('(\\d+)').astype(int)\n",
    "\n",
    "# For the aggregation query, split the dataset into the skew part and without skew part\n",
    "#aethra_aggregation_query_result_skew = aethra_aggregation_query_result[aethra_aggregation_query_result['Param: tableFilePath'].str.contains(\"skew\")].copy(deep=True)\n",
    "aethra_aggregation_query_result_no_skew = aethra_aggregation_query_result[~aethra_aggregation_query_result['Param: tableFilePath'].str.contains(\"skew\")].copy(deep=True)\n",
    "\n",
    "# For the aggregation query with skew, extract the skew\n",
    "#aethra_aggregation_query_result_skew[\"Skew\"] = aethra_aggregation_query_result_skew.apply(lambda x: float(x['Param: tableFilePath'].split('skew_')[1].split('/')[0]), axis=1)\n",
    "\n",
    "# Drop the dataset column of the aggregation query that we do not need\n",
    "#aethra_aggregation_query_result_skew.drop(columns=[\"Benchmark\", \"Mode\", \"Threads\", \"Samples\", \"Score\", \"Score Error (99.9%)\", \"Unit\", \"Param: tableFilePath\"], inplace=True)\n",
    "aethra_aggregation_query_result_no_skew.drop(columns=[\"Benchmark\", \"Mode\", \"Threads\", \"Samples\", \"Score\", \"Score Error (99.9%)\", \"Unit\", \"Param: tableFilePath\"], inplace=True)"
   ]
  },
  {
   "cell_type": "code",
   "execution_count": 5,
   "id": "08b739dc",
   "metadata": {},
   "outputs": [
    {
     "data": {
      "text/html": [
       "<div>\n",
       "<style scoped>\n",
       "    .dataframe tbody tr th:only-of-type {\n",
       "        vertical-align: middle;\n",
       "    }\n",
       "\n",
       "    .dataframe tbody tr th {\n",
       "        vertical-align: top;\n",
       "    }\n",
       "\n",
       "    .dataframe thead th {\n",
       "        text-align: right;\n",
       "    }\n",
       "</style>\n",
       "<table border=\"1\" class=\"dataframe\">\n",
       "  <thead>\n",
       "    <tr style=\"text-align: right;\">\n",
       "      <th></th>\n",
       "      <th>Running-Time</th>\n",
       "      <th>Engine</th>\n",
       "      <th>Restrictive-Column</th>\n",
       "    </tr>\n",
       "  </thead>\n",
       "  <tbody>\n",
       "    <tr>\n",
       "      <th>360</th>\n",
       "      <td>42.9</td>\n",
       "      <td>NV-NS</td>\n",
       "      <td>1</td>\n",
       "    </tr>\n",
       "    <tr>\n",
       "      <th>369</th>\n",
       "      <td>51.0</td>\n",
       "      <td>NV-NS</td>\n",
       "      <td>2</td>\n",
       "    </tr>\n",
       "    <tr>\n",
       "      <th>378</th>\n",
       "      <td>46.9</td>\n",
       "      <td>NV-NS</td>\n",
       "      <td>3</td>\n",
       "    </tr>\n",
       "    <tr>\n",
       "      <th>387</th>\n",
       "      <td>72.6</td>\n",
       "      <td>NV-S</td>\n",
       "      <td>1</td>\n",
       "    </tr>\n",
       "    <tr>\n",
       "      <th>396</th>\n",
       "      <td>72.8</td>\n",
       "      <td>NV-S</td>\n",
       "      <td>2</td>\n",
       "    </tr>\n",
       "  </tbody>\n",
       "</table>\n",
       "</div>"
      ],
      "text/plain": [
       "     Running-Time Engine  Restrictive-Column\n",
       "360          42.9  NV-NS                   1\n",
       "369          51.0  NV-NS                   2\n",
       "378          46.9  NV-NS                   3\n",
       "387          72.6   NV-S                   1\n",
       "396          72.8   NV-S                   2"
      ]
     },
     "execution_count": 5,
     "metadata": {},
     "output_type": "execute_result"
    }
   ],
   "source": [
    "aethra_filter_query_result.head()"
   ]
  },
  {
   "cell_type": "code",
   "execution_count": 6,
   "id": "05278772",
   "metadata": {},
   "outputs": [
    {
     "data": {
      "text/html": [
       "<div>\n",
       "<style scoped>\n",
       "    .dataframe tbody tr th:only-of-type {\n",
       "        vertical-align: middle;\n",
       "    }\n",
       "\n",
       "    .dataframe tbody tr th {\n",
       "        vertical-align: top;\n",
       "    }\n",
       "\n",
       "    .dataframe thead th {\n",
       "        text-align: right;\n",
       "    }\n",
       "</style>\n",
       "<table border=\"1\" class=\"dataframe\">\n",
       "  <thead>\n",
       "    <tr style=\"text-align: right;\">\n",
       "      <th></th>\n",
       "      <th>Running-Time</th>\n",
       "      <th>Engine</th>\n",
       "      <th>Verifies</th>\n",
       "      <th>Records</th>\n",
       "      <th>Keys</th>\n",
       "    </tr>\n",
       "  </thead>\n",
       "  <tbody>\n",
       "    <tr>\n",
       "      <th>0</th>\n",
       "      <td>406.5</td>\n",
       "      <td>NV-NS</td>\n",
       "      <td>False</td>\n",
       "      <td>31457280</td>\n",
       "      <td>1</td>\n",
       "    </tr>\n",
       "    <tr>\n",
       "      <th>9</th>\n",
       "      <td>555.5</td>\n",
       "      <td>NV-NS</td>\n",
       "      <td>False</td>\n",
       "      <td>31457280</td>\n",
       "      <td>4</td>\n",
       "    </tr>\n",
       "    <tr>\n",
       "      <th>18</th>\n",
       "      <td>547.1</td>\n",
       "      <td>NV-NS</td>\n",
       "      <td>False</td>\n",
       "      <td>31457280</td>\n",
       "      <td>16</td>\n",
       "    </tr>\n",
       "    <tr>\n",
       "      <th>27</th>\n",
       "      <td>511.6</td>\n",
       "      <td>NV-NS</td>\n",
       "      <td>False</td>\n",
       "      <td>31457280</td>\n",
       "      <td>64</td>\n",
       "    </tr>\n",
       "    <tr>\n",
       "      <th>36</th>\n",
       "      <td>539.0</td>\n",
       "      <td>NV-NS</td>\n",
       "      <td>False</td>\n",
       "      <td>31457280</td>\n",
       "      <td>256</td>\n",
       "    </tr>\n",
       "  </tbody>\n",
       "</table>\n",
       "</div>"
      ],
      "text/plain": [
       "    Running-Time Engine  Verifies   Records  Keys\n",
       "0          406.5  NV-NS     False  31457280     1\n",
       "9          555.5  NV-NS     False  31457280     4\n",
       "18         547.1  NV-NS     False  31457280    16\n",
       "27         511.6  NV-NS     False  31457280    64\n",
       "36         539.0  NV-NS     False  31457280   256"
      ]
     },
     "execution_count": 6,
     "metadata": {},
     "output_type": "execute_result"
    }
   ],
   "source": [
    "aethra_aggregation_query_result_no_skew.head()"
   ]
  },
  {
   "cell_type": "markdown",
   "id": "fed5c944",
   "metadata": {},
   "source": [
    "## Analysing the Filter Query Performance\n",
    "We create a plot of the running-time per engine and per restrictive column for the filter query."
   ]
  },
  {
   "cell_type": "code",
   "execution_count": 7,
   "id": "d52fcb87",
   "metadata": {},
   "outputs": [
    {
     "data": {
      "text/plain": [
       "<matplotlib.legend.Legend at 0x7f75dedf1210>"
      ]
     },
     "execution_count": 7,
     "metadata": {},
     "output_type": "execute_result"
    },
    {
     "data": {
      "image/png": "[encoded data removed]",
      "text/plain": [
       "<Figure size 640x480 with 1 Axes>"
      ]
     },
     "metadata": {},
     "output_type": "display_data"
    }
   ],
   "source": [
    "index_column = \"Restrictive-Column\"\n",
    "\n",
    "duckdb_data = duckdb_filter_query.sort_values(index_column)\n",
    "index = duckdb_data[index_column]\n",
    "\n",
    "aethra_nv_ns_data = aethra_filter_query_result[aethra_filter_query_result[\"Engine\"] == \"NV-NS\"].sort_values(index_column)\n",
    "aethra_nv_s_data = aethra_filter_query_result[aethra_filter_query_result[\"Engine\"] == \"NV-S\"].sort_values(index_column)\n",
    "aethra_v_ns_data = aethra_filter_query_result[aethra_filter_query_result[\"Engine\"] == \"V-NS\"].sort_values(index_column)\n",
    "aethra_v_s_data = aethra_filter_query_result[aethra_filter_query_result[\"Engine\"] == \"V-S\"].sort_values(index_column)\n",
    "\n",
    "df = pd.DataFrame({\n",
    "    'DuckDB': duckdb_data[\"Running-Time\"].tolist(),\n",
    "    'NV-NS': aethra_nv_ns_data[\"Running-Time\"].tolist(),\n",
    "    'V-NS': aethra_v_ns_data[\"Running-Time\"].tolist(),\n",
    "    'NV-S': aethra_nv_s_data[\"Running-Time\"].tolist(),\n",
    "    'V-S': aethra_v_s_data[\"Running-Time\"].tolist(),\n",
    "}, index = index)\n",
    "\n",
    "ax = df.plot.bar(rot=0)\n",
    "ax.set_ylabel(\"Execution Time (ms)\")\n",
    "ax.set_title(\"Filter Query Running-Time per Engine\")\n",
    "ax.legend(loc=3, bbox_to_anchor=(0., 1.06, 1., .102))"
   ]
  },
  {
   "cell_type": "markdown",
   "id": "de8a7362",
   "metadata": {},
   "source": [
    "## Analysing the Aggregation Query Performance (Influence of #Keys, no Skew)\n",
    "Below we analyse the performance of the Aggregation Query for each engine, where we focus on the influence of the amount of unique keys in the aggregation. We present results both for the query implementations that check the final result, and those that do not check the result. "
   ]
  },
  {
   "cell_type": "code",
   "execution_count": 8,
   "id": "a171d6c2",
   "metadata": {},
   "outputs": [
    {
     "data": {
      "text/plain": [
       "<matplotlib.legend.Legend at 0x7f75def33e50>"
      ]
     },
     "execution_count": 8,
     "metadata": {},
     "output_type": "execute_result"
    },
    {
     "data": {
      "image/png": "[encoded data removed]",
      "text/plain": [
       "<Figure size 2000x1000 with 1 Axes>"
      ]
     },
     "metadata": {},
     "output_type": "display_data"
    }
   ],
   "source": [
    "index_column = \"Keys\"\n",
    "\n",
    "duckdb_data = duckdb_aggregation_query_no_skew.sort_values(index_column)\n",
    "index = duckdb_data[index_column]\n",
    "\n",
    "aethra_aggregation_query_result_no_skew_without_verify = aethra_aggregation_query_result_no_skew[~aethra_aggregation_query_result_no_skew[\"Verifies\"]]\n",
    "\n",
    "aethra_nv_ns_data = aethra_aggregation_query_result_no_skew_without_verify[aethra_aggregation_query_result_no_skew_without_verify[\"Engine\"] == \"NV-NS\"].sort_values(index_column)\n",
    "aethra_nv_s_data = aethra_aggregation_query_result_no_skew_without_verify[aethra_aggregation_query_result_no_skew_without_verify[\"Engine\"] == \"NV-S\"].sort_values(index_column)\n",
    "aethra_v_ns_data = aethra_aggregation_query_result_no_skew_without_verify[aethra_aggregation_query_result_no_skew_without_verify[\"Engine\"] == \"V-NS\"].sort_values(index_column)\n",
    "aethra_v_s_data = aethra_aggregation_query_result_no_skew_without_verify[aethra_aggregation_query_result_no_skew_without_verify[\"Engine\"] == \"V-S\"].sort_values(index_column)\n",
    "\n",
    "df = pd.DataFrame({\n",
    "    'DuckDB': duckdb_data[\"Running-Time\"].tolist(),\n",
    "    'NV-NS': aethra_nv_ns_data[\"Running-Time\"].tolist(),\n",
    "    'V-NS': aethra_v_ns_data[\"Running-Time\"].tolist(),\n",
    "    'NV-S': aethra_nv_s_data[\"Running-Time\"].tolist(),\n",
    "    'V-S': aethra_v_s_data[\"Running-Time\"].tolist(),\n",
    "}, index = index)\n",
    "\n",
    "ax = df.plot.bar(rot=0,figsize=(20,10))\n",
    "ax.set_ylabel(\"Execution Time (ms)\")\n",
    "ax.set_title(\"Aggregation Query Running-Time per Engine (For 31457280 Records, without Verification)\")\n",
    "ax.legend(loc=3, bbox_to_anchor=(0., 1.06, 1., .102))"
   ]
  }
 ],
 "metadata": {
  "kernelspec": {
   "display_name": "Python 3 (ipykernel)",
   "language": "python",
   "name": "python3"
  },
  "language_info": {
   "codemirror_mode": {
    "name": "ipython",
    "version": 3
   },
   "file_extension": ".py",
   "mimetype": "text/x-python",
   "name": "python",
   "nbconvert_exporter": "python",
   "pygments_lexer": "ipython3",
   "version": "3.11.3"
  }
 },
 "nbformat": 4,
 "nbformat_minor": 5
}
